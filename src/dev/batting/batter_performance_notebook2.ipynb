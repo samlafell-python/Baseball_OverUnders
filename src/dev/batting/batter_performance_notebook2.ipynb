{
 "cells": [
  {
   "cell_type": "code",
   "execution_count": 2,
   "metadata": {},
   "outputs": [],
   "source": [
    "'''\n",
    "Title: Batter Performance Table Pt 2\n",
    "Author: Sam LaFell\n",
    "Date: 11/5/2022\n",
    "Purpose: Part 1 didnt seem to work\n",
    "\n",
    "Granularity: xBA by pitch for each batter. By pitcher handiness.\n",
    "'''\n",
    "\n",
    "# Import Libraries\n",
    "import pandas as pd\n",
    "pd.set_option('display.max_columns', 500)\n",
    "import pybaseball as pb\n",
    "import os\n",
    "import numpy as np\n",
    "import re\n",
    "from datetime import datetime, timedelta"
   ]
  },
  {
   "cell_type": "code",
   "execution_count": 3,
   "metadata": {},
   "outputs": [
    {
     "name": "stdout",
     "output_type": "stream",
     "text": [
      "adding path\n"
     ]
    }
   ],
   "source": [
    "import sys\n",
    "import pathlib\n",
    "import os \n",
    "\n",
    "# Set base path\n",
    "base_path = os.path.abspath('/Users/samlafell/Desktop/sports_betting_project')\n",
    "os.chdir(base_path)\n",
    "\n",
    "# Add utils folder if not already in system path\n",
    "if os.path.join(base_path, 'utils') not in sys.path:\n",
    "    print('adding path')\n",
    "    sys.path.append(os.path.join(base_path, 'utils'))\n",
    "    \n",
    "from utils import get_players, game_performances, plate_appearances, expected_ba"
   ]
  },
  {
   "cell_type": "markdown",
   "metadata": {},
   "source": [
    "## Lookup the Player IDs for all players on a specific Team\n",
    "## Then use this to get their performance information for games in a time period leading up to a certain date"
   ]
  },
  {
   "cell_type": "code",
   "execution_count": 14,
   "metadata": {},
   "outputs": [],
   "source": [
    "# Generate a lookup table to use in the Game Performances function\n",
    "atl_players = get_players.get_players('2018-05-13', 'ATL', min_abs_season=10)"
   ]
  },
  {
   "cell_type": "code",
   "execution_count": 13,
   "metadata": {},
   "outputs": [
    {
     "data": {
      "text/plain": [
       "(      name_last name_first  key_mlbam key_retro  key_bbref  key_fangraphs  \\\n",
       " 0       freeman    freddie     518692  freef001  freemfr01           5361   \n",
       " 1         acuna     ronald     660670  acunr001  acunaro01          18401   \n",
       " 2        albies      ozzie     645277  albio001  albieoz01          16556   \n",
       " 3      inciarte      ender     542255  incie001  inciaen01           4922   \n",
       " 4       camargo      johan     622666  camaj001  camarjo01          14950   \n",
       " 5      markakis       nick     455976  markn001  markani01           5930   \n",
       " 6       flowers      tyler     452095  flowt001  flowety01           9134   \n",
       " 7       swanson     dansby     621020  swand001  swansda01          18314   \n",
       " 8     culberson    charlie     518586  culbc001  culbech01           3298   \n",
       " 9        suzuki       kurt     435559  suzuk001  suzukku01           8259   \n",
       " 10        adams       lane     572669  adaml001  adamsla01          10767   \n",
       " 11      teheran      julio     527054  tehej001  teherju01           6797   \n",
       " 12      santana      danny     542454  santd001  santada01          10322   \n",
       " 13      bourjos      peter     488721  bourp001  bourjpe01           2578   \n",
       " 14         ruiz        rio     547004  ruizr002   ruizri01          14103   \n",
       " 15    toussaint      touki     657053  toust001  toussto01          16929   \n",
       " 16     mccarthy    brandon     435221  mccab001  mccarbr01           4662   \n",
       " 17      newcomb       sean     656794  newcs001  newcose01          16943   \n",
       " 18      sanchez     anibal     434671  sanca004  sanchan01           3284   \n",
       " 19     flaherty       ryan     475247  flahr001  flahery01           7888   \n",
       " 20  foltynewicz       mike     592314  foltm001  foltymi01          10811   \n",
       " \n",
       "     mlb_played_first  mlb_played_last   playerID  yearID  stint teamID lgID  \\\n",
       " 0             2010.0           2022.0  freemfr01    2021      1    ATL   NL   \n",
       " 1             2018.0           2022.0  acunaro01    2021      1    ATL   NL   \n",
       " 2             2017.0           2022.0  albieoz01    2021      1    ATL   NL   \n",
       " 3             2014.0           2022.0  inciaen01    2021      1    ATL   NL   \n",
       " 4             2017.0           2022.0  camarjo01    2021      1    ATL   NL   \n",
       " 5             2006.0           2020.0  markani01    2020      1    ATL   NL   \n",
       " 6             2009.0           2020.0  flowety01    2020      1    ATL   NL   \n",
       " 7             2016.0           2022.0  swansda01    2021      1    ATL   NL   \n",
       " 8             2012.0           2022.0  culbech01    2021      1    TEX   AL   \n",
       " 9             2007.0           2022.0  suzukku01    2021      1    LAA   AL   \n",
       " 10            2014.0           2018.0  adamsla01    2018      1    ATL   NL   \n",
       " 11            2011.0           2021.0  teherju01    2021      1    DET   AL   \n",
       " 12            2014.0           2021.0  santada01    2021      1    BOS   AL   \n",
       " 13            2010.0           2019.0  bourjpe01    2019      1    LAA   AL   \n",
       " 14            2016.0           2021.0   ruizri01    2021      2    COL   NL   \n",
       " 15            2018.0           2022.0  toussto01    2021      1    ATL   NL   \n",
       " 16            2005.0           2018.0  mccarbr01    2018      1    ATL   NL   \n",
       " 17            2017.0           2022.0  newcose01    2021      1    ATL   NL   \n",
       " 18            2006.0           2022.0  sanchan01    2020      1    WAS   NL   \n",
       " 19            2012.0           2019.0  flahery01    2019      1    CLE   AL   \n",
       " 20            2014.0           2021.0  foltymi01    2021      1    TEX   AL   \n",
       " \n",
       "    POS    G     GS  InnOuts    PO    A     E  DP   PB  WP    SB   CS  ZR  \n",
       " 0   1B  159  158.0   4074.0  1252  101   3.0  95  NaN NaN   NaN  NaN NaN  \n",
       " 1   OF   81   80.0   2026.0   134    4   2.0   0  NaN NaN   NaN  NaN NaN  \n",
       " 2   2B  156  156.0   4076.0   231  389   8.0  75  NaN NaN   NaN  NaN NaN  \n",
       " 3   OF   40   17.0    520.0    58    1   0.0   0  NaN NaN   NaN  NaN NaN  \n",
       " 4   3B    1    0.0      6.0     0    0   0.0   0  NaN NaN   NaN  NaN NaN  \n",
       " 5   OF   34   31.0    805.0    54    0   0.0   0  NaN NaN   NaN  NaN NaN  \n",
       " 6    C   22   22.0    552.0   181    5   1.0   0  1.0 NaN  15.0  2.0 NaN  \n",
       " 7   SS  159  158.0   4116.0   185  376  10.0  64  NaN NaN   NaN  NaN NaN  \n",
       " 8   SS    3    3.0     76.0     2    6   2.0   1  NaN NaN   NaN  NaN NaN  \n",
       " 9    C   69   63.0   1671.0   597   33  10.0   5  7.0 NaN  35.0  8.0 NaN  \n",
       " 10  OF    8    2.0     88.0     9    0   0.0   0  NaN NaN   NaN  NaN NaN  \n",
       " 11   P    1    1.0     15.0     0    1   0.0   0  NaN NaN   0.0  0.0 NaN  \n",
       " 12  OF   19   16.0    440.0    33    1   0.0   0  NaN NaN   NaN  NaN NaN  \n",
       " 13  OF   23   11.0    360.0    29    0   0.0   0  NaN NaN   NaN  NaN NaN  \n",
       " 14  OF    2    0.0      9.0     0    0   0.0   0  NaN NaN   NaN  NaN NaN  \n",
       " 15   P   11   10.0    150.0     2    6   1.0   0  NaN NaN   4.0  0.0 NaN  \n",
       " 16   P   15   15.0    236.0     4   18   1.0   4  NaN NaN   NaN  NaN NaN  \n",
       " 17   P   32    0.0     97.0     1    5   0.0   0  NaN NaN   0.0  2.0 NaN  \n",
       " 18   P   11   11.0    159.0     5    5   1.0   1  NaN NaN   NaN  NaN NaN  \n",
       " 19  3B   11    5.0    171.0     5    9   0.0   0  NaN NaN   NaN  NaN NaN  \n",
       " 20   P   28   24.0    417.0     4   13   1.0   1  NaN NaN   2.0  3.0 NaN  ,\n",
       "          playerID  yearID  stint teamID lgID POS    G    GS  InnOuts   PO   A  \\\n",
       " 0       abercda01    1871      1    TRO  NaN  SS    1   1.0     24.0    1   3   \n",
       " 11      armstbo01    1871      1    FW1  NaN  OF   12  12.0    345.0   29   2   \n",
       " 12      barkeal01    1871      1    RC1  NaN  OF    1   1.0     27.0    2   0   \n",
       " 18      barrofr01    1871      1    BS1  NaN  OF   17  16.0    441.0   28   1   \n",
       " 30      berkena01    1871      1    PH1  NaN  OF    1   1.0     30.0    3   0   \n",
       " ...           ...     ...    ...    ...  ...  ..  ...   ...      ...  ...  ..   \n",
       " 147075  zimmejo02    2021      1    MIL   NL   P    2   0.0     17.0    0   1   \n",
       " 147076  zimmeky01    2021      1    KCA   AL   P   52   2.0    162.0    4   5   \n",
       " 147077  zimmery01    2021      1    WAS   NL  1B   54  45.0   1202.0  338  15   \n",
       " 147078  zuberty01    2021      1    KCA   AL   P   31   0.0     82.0    1   3   \n",
       " 147079  zuninmi01    2021      1    TBA   AL   C  105  97.0   2581.0  909  37   \n",
       " \n",
       "           E  DP    PB  WP    SB    CS  ZR  \n",
       " 0       2.0   0   NaN NaN   NaN   NaN NaN  \n",
       " 11      7.0   0   NaN NaN   NaN   NaN NaN  \n",
       " 12      0.0   0   NaN NaN   NaN   NaN NaN  \n",
       " 18      6.0   0   NaN NaN   NaN   NaN NaN  \n",
       " 30      0.0   0   NaN NaN   NaN   NaN NaN  \n",
       " ...     ...  ..   ...  ..   ...   ...  ..  \n",
       " 147075  0.0   0   NaN NaN   0.0   0.0 NaN  \n",
       " 147076  0.0   3   NaN NaN   2.0   1.0 NaN  \n",
       " 147077  0.0  30   NaN NaN   NaN   NaN NaN  \n",
       " 147078  0.0   0   NaN NaN   0.0   0.0 NaN  \n",
       " 147079  5.0   2  10.0 NaN  47.0  13.0 NaN  \n",
       " \n",
       " [19964 rows x 18 columns])"
      ]
     },
     "execution_count": 13,
     "metadata": {},
     "output_type": "execute_result"
    }
   ],
   "source": [
    "atl_players"
   ]
  },
  {
   "cell_type": "code",
   "execution_count": 5,
   "metadata": {},
   "outputs": [
    {
     "name": "stdout",
     "output_type": "stream",
     "text": [
      "Gathering Player Data\n",
      "Gathering Player Data\n",
      "Gathering Player Data\n",
      "Gathering Player Data\n",
      "Gathering Player Data\n",
      "Gathering Player Data\n",
      "Gathering Player Data\n",
      "Gathering Player Data\n",
      "Gathering Player Data\n",
      "Gathering Player Data\n",
      "Gathering Player Data\n",
      "Gathering Player Data\n",
      "Gathering Player Data\n",
      "Gathering Player Data\n",
      "Gathering Player Data\n",
      "Gathering Player Data\n",
      "Gathering Player Data\n",
      "Gathering Player Data\n",
      "Gathering Player Data\n",
      "Gathering Player Data\n",
      "Gathering Player Data\n"
     ]
    }
   ],
   "source": [
    "# If Game Date is after 5/1, do this, else we will need previous season numbers\n",
    "game_performances_df = game_performances.game_performances('2018-05-13', atl_players, lookback_period=28)"
   ]
  },
  {
   "cell_type": "code",
   "execution_count": null,
   "metadata": {},
   "outputs": [],
   "source": []
  },
  {
   "cell_type": "code",
   "execution_count": 7,
   "metadata": {},
   "outputs": [
    {
     "data": {
      "text/html": [
       "<div>\n",
       "<style scoped>\n",
       "    .dataframe tbody tr th:only-of-type {\n",
       "        vertical-align: middle;\n",
       "    }\n",
       "\n",
       "    .dataframe tbody tr th {\n",
       "        vertical-align: top;\n",
       "    }\n",
       "\n",
       "    .dataframe thead th {\n",
       "        text-align: right;\n",
       "    }\n",
       "</style>\n",
       "<table border=\"1\" class=\"dataframe\">\n",
       "  <thead>\n",
       "    <tr style=\"text-align: right;\">\n",
       "      <th></th>\n",
       "      <th>batter</th>\n",
       "      <th>PA</th>\n",
       "      <th>xBA</th>\n",
       "    </tr>\n",
       "  </thead>\n",
       "  <tbody>\n",
       "    <tr>\n",
       "      <th>5</th>\n",
       "      <td>518692</td>\n",
       "      <td>106</td>\n",
       "      <td>0.420241</td>\n",
       "    </tr>\n",
       "    <tr>\n",
       "      <th>2</th>\n",
       "      <td>455976</td>\n",
       "      <td>108</td>\n",
       "      <td>0.380409</td>\n",
       "    </tr>\n",
       "    <tr>\n",
       "      <th>1</th>\n",
       "      <td>452095</td>\n",
       "      <td>25</td>\n",
       "      <td>0.370882</td>\n",
       "    </tr>\n",
       "    <tr>\n",
       "      <th>4</th>\n",
       "      <td>518586</td>\n",
       "      <td>22</td>\n",
       "      <td>0.361462</td>\n",
       "    </tr>\n",
       "    <tr>\n",
       "      <th>7</th>\n",
       "      <td>621020</td>\n",
       "      <td>62</td>\n",
       "      <td>0.345474</td>\n",
       "    </tr>\n",
       "    <tr>\n",
       "      <th>10</th>\n",
       "      <td>660670</td>\n",
       "      <td>72</td>\n",
       "      <td>0.344102</td>\n",
       "    </tr>\n",
       "    <tr>\n",
       "      <th>6</th>\n",
       "      <td>542255</td>\n",
       "      <td>110</td>\n",
       "      <td>0.335621</td>\n",
       "    </tr>\n",
       "    <tr>\n",
       "      <th>9</th>\n",
       "      <td>645277</td>\n",
       "      <td>113</td>\n",
       "      <td>0.307402</td>\n",
       "    </tr>\n",
       "    <tr>\n",
       "      <th>3</th>\n",
       "      <td>475247</td>\n",
       "      <td>62</td>\n",
       "      <td>0.303538</td>\n",
       "    </tr>\n",
       "    <tr>\n",
       "      <th>8</th>\n",
       "      <td>622666</td>\n",
       "      <td>56</td>\n",
       "      <td>0.301314</td>\n",
       "    </tr>\n",
       "    <tr>\n",
       "      <th>0</th>\n",
       "      <td>435559</td>\n",
       "      <td>72</td>\n",
       "      <td>0.286500</td>\n",
       "    </tr>\n",
       "  </tbody>\n",
       "</table>\n",
       "</div>"
      ],
      "text/plain": [
       "    batter   PA       xBA\n",
       "5   518692  106  0.420241\n",
       "2   455976  108  0.380409\n",
       "1   452095   25  0.370882\n",
       "4   518586   22  0.361462\n",
       "7   621020   62  0.345474\n",
       "10  660670   72  0.344102\n",
       "6   542255  110  0.335621\n",
       "9   645277  113  0.307402\n",
       "3   475247   62  0.303538\n",
       "8   622666   56  0.301314\n",
       "0   435559   72  0.286500"
      ]
     },
     "execution_count": 7,
     "metadata": {},
     "output_type": "execute_result"
    }
   ],
   "source": [
    "# Get plate appaearnce info in this time\n",
    "atbats = plate_appearances.plate_appearances(game_performances_df, min_pas = 15, p_handiness=False)\n",
    "\n",
    "# Get Expected BA Count\n",
    "expected_ba_df = expected_ba.expected_ba(game_performances_df, atbats.batter.values, p_handiness=False)\n",
    "\n",
    "# Batters PAs and xBA to date\n",
    "pas_xba = atbats.merge(expected_ba_df, how='inner', on='batter').rename(columns={'estimated_ba_using_speedangle':'xBA'})\n",
    "pas_xba.sort_values('xBA', ascending=False)"
   ]
  },
  {
   "cell_type": "markdown",
   "metadata": {},
   "source": [
    "# Conclusion\n",
    "Now, I have batter performance in the last x days from the current day game for a team, let's move to Pitching performances"
   ]
  },
  {
   "cell_type": "code",
   "execution_count": null,
   "metadata": {},
   "outputs": [],
   "source": []
  },
  {
   "cell_type": "code",
   "execution_count": null,
   "metadata": {},
   "outputs": [],
   "source": []
  },
  {
   "cell_type": "markdown",
   "metadata": {},
   "source": []
  }
 ],
 "metadata": {
  "kernelspec": {
   "display_name": "Python 3.10.6",
   "language": "python",
   "name": "python3"
  },
  "language_info": {
   "codemirror_mode": {
    "name": "ipython",
    "version": 3
   },
   "file_extension": ".py",
   "mimetype": "text/x-python",
   "name": "python",
   "nbconvert_exporter": "python",
   "pygments_lexer": "ipython3",
   "version": "3.10.6"
  },
  "orig_nbformat": 4,
  "vscode": {
   "interpreter": {
    "hash": "941629cbbf97b7e3ef6b8d2d68d9429b2edbaa385d28548608af70dd37a6ec21"
   }
  }
 },
 "nbformat": 4,
 "nbformat_minor": 2
}
